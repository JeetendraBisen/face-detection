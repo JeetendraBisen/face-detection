{
 "cells": [
  {
   "cell_type": "code",
   "execution_count": 1,
   "id": "26c50ac8",
   "metadata": {},
   "outputs": [],
   "source": [
    "import cv2\n",
    "from random import randrange"
   ]
  },
  {
   "cell_type": "code",
   "execution_count": 2,
   "id": "274c2b0f",
   "metadata": {},
   "outputs": [],
   "source": [
    "# Loading pre-trained data from opencv\n",
    "trained_face_data = cv2.CascadeClassifier('haarcascade_frontalface_default.xml')"
   ]
  },
  {
   "cell_type": "code",
   "execution_count": 3,
   "id": "a9f10478",
   "metadata": {},
   "outputs": [],
   "source": [
    "# choose an image to detact a face\n",
    "img = cv2.imread('akshaykkumar.jpg')\n",
    "webcam = cv2.VideoCapture(0)\n",
    "key = cv2.waitKey(1)"
   ]
  },
  {
   "cell_type": "code",
   "execution_count": 4,
   "id": "4cbcf3e5",
   "metadata": {},
   "outputs": [],
   "source": [
    "#iterate forever over frame\n",
    "while True:\n",
    "    #reading the current frame\n",
    "    successful_frame_read, frame = webcam.read()\n",
    "    #converting the image to greyscale\n",
    "    greyscaled_img = cv2.cvtColor(frame, cv2.COLOR_BGR2GRAY)\n",
    "    \n",
    "    #detacting faces\n",
    "    face_coordinates = trained_face_data.detectMultiScale(greyscaled_img)\n",
    "    \n",
    "    #draw rectangle around the face\n",
    "    for (x,y,w,h) in face_coordinates:\n",
    "        cv2.rectangle(frame, (x, y),(x+w, y+h), (0,255,0),2)\n",
    "        #cv2.rectangle(frame, (x, y),(x+w, y+h), (randrange(256),randrange(256),randrange(256)),2)\n",
    "\n",
    "    cv2.imshow('Clever Programming Face Detector',frame)\n",
    "    key = cv2.waitKey(1)\n",
    "    \n",
    "    # stop if q key is pressed\n",
    "    if key == 81 or key == 113:\n",
    "        break\n",
    "# release the videocapture object\n",
    "webcam.release()\n",
    "cv2.destroyAllWindows()\n"
   ]
  },
  {
   "cell_type": "code",
   "execution_count": null,
   "id": "1a47c04f",
   "metadata": {},
   "outputs": [],
   "source": []
  }
 ],
 "metadata": {
  "kernelspec": {
   "display_name": "Python 3 (ipykernel)",
   "language": "python",
   "name": "python3"
  },
  "language_info": {
   "codemirror_mode": {
    "name": "ipython",
    "version": 3
   },
   "file_extension": ".py",
   "mimetype": "text/x-python",
   "name": "python",
   "nbconvert_exporter": "python",
   "pygments_lexer": "ipython3",
   "version": "3.9.6"
  }
 },
 "nbformat": 4,
 "nbformat_minor": 5
}
